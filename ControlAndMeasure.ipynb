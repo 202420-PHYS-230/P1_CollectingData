{
 "cells": [
  {
   "cell_type": "markdown",
   "metadata": {},
   "source": [
    "\n",
    "# Collecting Data: The Lab.\n",
    "\n",
    "The goal this week is to use a microcontroller to measure some of the characteristics of a circuit.\n",
    "\n",
    "The circuit we'll be using is shown in Figure 1, below.\n",
    "\n",
    "|Figure 1|\n",
    "|:-|\n",
    "|![Fig. 1: This Week's Circuit](images/divider.png)|\n",
    "|This Week's Circuit|\n",
    "\n",
    "Your instructor will provide your group with a microcontroller and a PCB with this circuit already constructed. You'll be using [CircuitPython](https://circuitpython.org/) to drive the `pin-17` terminal (labelled `Vdac` in the schematic) and collect data from the `pin-15` and `pin-10` terminals (labelled `adc1` and `adc2` in the schematic).\n",
    "\n",
    "You'll notice that there's a capacitor in the circuit. For the first experiment, we'll drive the circuit very slowly, so that the capacitor plays no role. Later, we'll consider the transient behavior of the circuit and you'll see that the capacitor can have a dramatic effect."
   ]
  },
  {
   "cell_type": "markdown",
   "metadata": {},
   "source": [
    "# CircuitPython\n",
    "\n",
    "[CircuitPython](https://circuitpython.org/) is a version of python that runs on small micro-controllers. It has many of the features of the python language you probably learned before, but it includes libraries that enable one to control and measure voltages on the input and output pins of the micro-controller. To program the microcontroller you'll need to take several steps.\n",
    "\n",
    "1. Install a microcontroller aware editor on your laptop. I suggest [Thonny](https://thonny.org/). There are others, but thonny is the simplest to install and use.\n",
    "2. Copy/Paste the \"starter code\" below into thonny and save \"starter.py\" to the device.\n",
    "3. Run the starter code, watch the output window to see the data being collected.\n",
    "4. Reset the device to see the updated output file.\n",
    "\n",
    "## 1: Thonny\n",
    "\n",
    "You can get Thonny [here](https://thonny.org/).\n",
    "\n",
    "Once you have it installed you can connect the microcontroller and see the port listed as shown in Figure 2.\n",
    "\n",
    "|Figure 2|\n",
    "|:-|\n",
    "|![Fig. 2: Thonny connected to ESP-S2](images/thonny.png)|\n",
    "|Thonny connected.|\n",
    "\n"
   ]
  },
  {
   "cell_type": "markdown",
   "metadata": {},
   "source": [
    "## 2: Starter code\n",
    "\n",
    "Copy/Paste this code into thonny. Your instructor should step you through the code to explain the bits that are not part of standard python. The non-standard parts are all confined to external libraries (like `board`, and `analogio`.)\n",
    "\n",
    "```\n",
    "import board # information about the physical microcontroller\n",
    "import analogio as aio # analog input and output library\n",
    "import time # standard python time library\n",
    "\n",
    "ADCMAX = 2**16-1 # maximum input/out from ADC or to DAC\n",
    "\n",
    "adc1 = aio.AnalogIn(board.IO15)  # to read voltage from pin 15\n",
    "adc2 = aio.AnalogIn(board.IO10)  # to read voltage from pin 10\n",
    "vfactor = adc1.reference_voltage/ADCMAX # get conversion factor voltage to pin\n",
    "\n",
    "vdac = aio.AnalogOut(board.IO17) # to control voltage on pin 17\n",
    "\n",
    "f = open('starter.csv','w')\n",
    "header = \"j,vdac,v1,v2,time\"\n",
    "\n",
    "\n",
    "vdac.value = 0 # set output voltage to zero\n",
    "print(\"sleeping.... let C fully discharge\")\n",
    "print(\"3\")\n",
    "time.sleep(1)\n",
    "print(\"2\")\n",
    "time.sleep(1)\n",
    "print(\"1\")\n",
    "time.sleep(1)\n",
    "print(\"0 --- go!\")\n",
    "\n",
    "f.write(header + \"\\n\")\n",
    "print(header)\n",
    "\n",
    "t0 = time.monotonic_ns()\n",
    "\n",
    "for i in range(0,255,2): # steps of 2 to save time\n",
    "    time.sleep(0.2) # let the cap charge....\n",
    "    t = time.monotonic_ns()-t0\n",
    "    vout = int((i/255)*ADCMAX)\n",
    "    vdac.value = vout\n",
    "    sval = f\"{i},{vout*vfactor},{adc1.value*vfactor},{adc2.value*vfactor},{t/1e9}\"\n",
    "    f.write(f\"{sval}\\n\")\n",
    "    print(sval)\n",
    "\n",
    "vdac.value = 0 # let the LED rest...\n",
    "f.close()\n",
    "```"
   ]
  },
  {
   "cell_type": "markdown",
   "metadata": {},
   "source": [
    "## 3: Run the code!\n",
    "\n",
    "You should see an output similar to that shown in Figure 3.\n",
    "\n",
    "|Figure 3|\n",
    "|:-|\n",
    "|![Fig. 3: Start code running](images/starter.png)|\n",
    "|Starter Code executed.|\n",
    "\n",
    "\n"
   ]
  },
  {
   "cell_type": "markdown",
   "metadata": {},
   "source": [
    "## 4: Reset the device\n",
    "\n",
    "Once the code is complete, you can press the `reset` button on the microcontroller. This will momentarily disconnect and remount the filesystem of the device. Note: the filesystem is mounted \"read only\" to your computer. This means that you cannot make changes to the filesystem from the file manager of the computer. Only the microcontroller can change the filesystem. Thonny is connected to the microcontroller software, so thonny ask the microcontroller to save updates to the files on the filesystem for you. To see changes to the filesystem from the computer file manager, you need to remount the filesystem, which requires a reset. Once you reset the device you can copy the `csv` file with the measured values to the project folder for analysis."
   ]
  },
  {
   "cell_type": "markdown",
   "metadata": {},
   "source": []
  }
 ],
 "metadata": {
  "language_info": {
   "name": "python"
  }
 },
 "nbformat": 4,
 "nbformat_minor": 2
}
