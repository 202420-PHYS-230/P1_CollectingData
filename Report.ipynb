{
 "cells": [
  {
   "cell_type": "markdown",
   "metadata": {},
   "source": [
    "# Template \n",
    "\n",
    "## (Delete this cell when you commit your report)\n",
    "\n",
    "For each project there'll be a template like this. I'll try to make the early templates more of a \"fill in the blank\" experience, but as the semester progresses you'll be seeing less and less scaffolding and more of bare bones layout with a lot of room for creativity and flexibility. The rubric will remain consistent for all the projects. When you are ready to commit your final report, you can delete this cell, and any other cells that are purely made up of instructions."
   ]
  },
  {
   "cell_type": "markdown",
   "metadata": {},
   "source": [
    "# Abstract\n",
    "\n"
   ]
  }
 ],
 "metadata": {
  "language_info": {
   "name": "python"
  }
 },
 "nbformat": 4,
 "nbformat_minor": 2
}
